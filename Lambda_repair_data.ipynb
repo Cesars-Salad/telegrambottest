{
  "nbformat": 4,
  "nbformat_minor": 0,
  "metadata": {
    "colab": {
      "provenance": []
    },
    "kernelspec": {
      "name": "python3",
      "display_name": "Python 3"
    },
    "language_info": {
      "name": "python"
    }
  },
  "cells": [
    {
      "cell_type": "code",
      "source": [
        "import boto3\n",
        "\n",
        "def lambda_handler(event, context):\n",
        "\n",
        "    ENRICHED_BUCKET = 'mod44-ebac-datalake-enriched'\n",
        "    table_name = 'telegram'\n",
        "\n",
        "\n",
        "    query = \"MSCK REPAIR TABLE `{}`;\".format(table_name)\n",
        "\n",
        "\n",
        "    athena_client = boto3.client('athena')\n",
        "\n",
        "\n",
        "    response = athena_client.start_query_execution(\n",
        "        QueryString=query,\n",
        "        QueryExecutionContext={\n",
        "            'Database': ENRICHED_BUCKET\n",
        "        },\n",
        "        ResultConfiguration={\n",
        "            'OutputLocation': 's3://modulo-38-ebac-athena-results-cesaririgo/'  # Local onde os resultados serão armazenados\n",
        "        }\n",
        "    )\n",
        "\n",
        "\n",
        "    query_execution_id = response['QueryExecutionId']\n",
        "\n",
        "\n",
        "    return {\n",
        "        'statusCode': 200,\n",
        "        'body': query_execution_id\n",
        "    }\n"
      ],
      "metadata": {
        "id": "LqPzlxYl-QoL"
      },
      "execution_count": null,
      "outputs": []
    }
  ]
}